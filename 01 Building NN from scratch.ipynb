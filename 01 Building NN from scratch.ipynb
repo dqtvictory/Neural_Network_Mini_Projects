{
 "cells": [
  {
   "cell_type": "markdown",
   "metadata": {},
   "source": [
    "## Constructing a neural network from scratch"
   ]
  },
  {
   "cell_type": "code",
   "execution_count": 1,
   "metadata": {},
   "outputs": [],
   "source": [
    "# Import necessary libraries\n",
    "import numpy as np\n",
    "import matplotlib.pyplot as plt"
   ]
  },
  {
   "cell_type": "code",
   "execution_count": 2,
   "metadata": {},
   "outputs": [],
   "source": [
    "# Activation function\n",
    "def sigmoid(x):\n",
    "    return 1.0 / (1 + np.exp(-x))\n",
    "\n",
    "# Derivative of the sigmoid function\n",
    "def sigmoid_d(x):\n",
    "    return x * (1.0 - x)\n",
    "\n",
    "class NeuralNetwork:\n",
    "    # Create the class\n",
    "    def __init__(self, x, y):\n",
    "        self.input = x\n",
    "        self.weights1 = np.random.rand(self.input.shape[1], 4)\n",
    "        self.weights2 = np.random.rand(4, 1)\n",
    "        self.y = y\n",
    "        self.output = np.zeros(self.y.shape)\n",
    "        \n",
    "    # Assuming biases to be 0, calculate output using the sigmoid function as activation function\n",
    "    def feedforward(self):\n",
    "        self.layer1 = sigmoid(np.dot(self.input, self.weights1))\n",
    "        self.output = sigmoid(np.dot(self.layer1, self.weights2))\n",
    "        \n",
    "    # Using the sum-of-squares error as loss function, trace back to optimize the set of weights\n",
    "    def backprop(self):\n",
    "        d_w2 = np.dot(self.layer1.T, (2*(self.y - self.output) * sigmoid_d(self.output)))\n",
    "        d_w1 = np.dot(self.input.T, (np.dot(2*(self.y - self.output) * sigmoid_d(self.output), self.weights2.T) * sigmoid_d(self.layer1)))\n",
    "        self.weights1 += d_w1\n",
    "        self.weights2 += d_w2\n",
    "        \n",
    "    # Execute the neural network then return the output\n",
    "    def run(self, epochs):\n",
    "        self.loss = []\n",
    "        for _ in range(epochs):\n",
    "            self.feedforward()\n",
    "            self.backprop()\n",
    "            self.loss.append(np.sum((self.output - self.y)**2))\n",
    "        return self.output"
   ]
  },
  {
   "cell_type": "code",
   "execution_count": 3,
   "metadata": {},
   "outputs": [
    {
     "name": "stdout",
     "output_type": "stream",
     "text": [
      "[[0.01917001]\n",
      " [0.98354219]\n",
      " [0.97299174]\n",
      " [0.02425366]]\n"
     ]
    }
   ],
   "source": [
    "# Train the neural network with a set of four 3-d vectors\n",
    "X = np.array([\n",
    "    [0,0,1],\n",
    "    [0,1,1],\n",
    "    [1,0,1],\n",
    "    [1,1,1]\n",
    "])\n",
    "\n",
    "# Labels\n",
    "y = np.array([[0], [1], [1], [0]])\n",
    "\n",
    "# Construct the neural network\n",
    "nn = NeuralNetwork(X, y)\n",
    "epochs = 1500\n",
    "\n",
    "print(nn.run(epochs))"
   ]
  },
  {
   "cell_type": "code",
   "execution_count": 4,
   "metadata": {},
   "outputs": [
    {
     "data": {
      "image/png": "[encoded data removed]",
      "text/plain": [
       "<Figure size 432x288 with 1 Axes>"
      ]
     },
     "metadata": {
      "needs_background": "light"
     },
     "output_type": "display_data"
    }
   ],
   "source": [
    "# Plot the loss value over time\n",
    "plt.plot(np.arange(epochs), nn.loss)\n",
    "plt.xlabel(\"Iteraion\")\n",
    "plt.ylabel(\"Loss\")\n",
    "plt.title(\"Loss per Iteration\")\n",
    "plt.show()"
   ]
  },
  {
   "cell_type": "markdown",
   "metadata": {},
   "source": [
    "## Using the Keras libary"
   ]
  },
  {
   "cell_type": "code",
   "execution_count": 5,
   "metadata": {},
   "outputs": [],
   "source": [
    "# Import the Sequential model and Dense layer from the keras library\n",
    "from keras.models import Sequential\n",
    "from keras.layers import Dense"
   ]
  },
  {
   "cell_type": "code",
   "execution_count": 6,
   "metadata": {},
   "outputs": [],
   "source": [
    "# Construct the model\n",
    "model = Sequential()\n",
    "\n",
    "# 1st hidden layer\n",
    "model.add(Dense(units=4, activation='sigmoid', input_dim=3))\n",
    "\n",
    "# Output layer\n",
    "model.add(Dense(units=1, activation='sigmoid'))"
   ]
  },
  {
   "cell_type": "code",
   "execution_count": 7,
   "metadata": {},
   "outputs": [
    {
     "name": "stdout",
     "output_type": "stream",
     "text": [
      "Model: \"sequential\"\n",
      "_________________________________________________________________\n",
      "Layer (type)                 Output Shape              Param #   \n",
      "=================================================================\n",
      "dense (Dense)                (None, 4)                 16        \n",
      "_________________________________________________________________\n",
      "dense_1 (Dense)              (None, 1)                 5         \n",
      "=================================================================\n",
      "Total params: 21\n",
      "Trainable params: 21\n",
      "Non-trainable params: 0\n",
      "_________________________________________________________________\n"
     ]
    }
   ],
   "source": [
    "# Summary of the network\n",
    "model.summary()"
   ]
  },
  {
   "cell_type": "code",
   "execution_count": 9,
   "metadata": {},
   "outputs": [],
   "source": [
    "# Compile the model for training\n",
    "\n",
    "from keras import optimizers\n",
    "sgd = optimizers.SGD(lr=1)\n",
    "model.compile(loss='mean_squared_error', optimizer=sgd)"
   ]
  },
  {
   "cell_type": "code",
   "execution_count": 10,
   "metadata": {},
   "outputs": [
    {
     "data": {
      "text/plain": [
       "array([[0.05338483],\n",
       "       [0.94167835],\n",
       "       [0.94903105],\n",
       "       [0.05648097]], dtype=float32)"
      ]
     },
     "execution_count": 10,
     "metadata": {},
     "output_type": "execute_result"
    }
   ],
   "source": [
    "np.random.seed(9)\n",
    "\n",
    "model.fit(X, y, epochs=1500, verbose=0)\n",
    "model.predict(X)"
   ]
  }
 ],
 "metadata": {
  "kernelspec": {
   "display_name": "Python 3",
   "language": "python",
   "name": "python3"
  },
  "language_info": {
   "codemirror_mode": {
    "name": "ipython",
    "version": 3
   },
   "file_extension": ".py",
   "mimetype": "text/x-python",
   "name": "python",
   "nbconvert_exporter": "python",
   "pygments_lexer": "ipython3",
   "version": "3.8.3"
  }
 },
 "nbformat": 4,
 "nbformat_minor": 4
}
